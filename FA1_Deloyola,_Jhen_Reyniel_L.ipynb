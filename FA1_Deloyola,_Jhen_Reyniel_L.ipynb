{
  "nbformat": 4,
  "nbformat_minor": 0,
  "metadata": {
    "colab": {
      "provenance": []
    },
    "kernelspec": {
      "name": "python3",
      "display_name": "Python 3"
    },
    "language_info": {
      "name": "python"
    }
  },
  "cells": [
    {
      "cell_type": "markdown",
      "source": [
        "1. How many seconds are there in 42 minutes and 42 seconds?"
      ],
      "metadata": {
        "id": "17eWkL_Ebpd4"
      }
    },
    {
      "cell_type": "code",
      "source": [
        "minutes = 42\n",
        "seconds = 42\n",
        "total_seconds = 42 * 60 + 42\n",
        "\n",
        "print(\"The total number of seconds is\", total_seconds)"
      ],
      "metadata": {
        "colab": {
          "base_uri": "https://localhost:8080/"
        },
        "id": "QQzEd8d_eWrx",
        "outputId": "e1db1cea-626c-4ac0-c662-375a4c8ad4e2"
      },
      "execution_count": 8,
      "outputs": [
        {
          "output_type": "stream",
          "name": "stdout",
          "text": [
            "The total number of seconds is 2562\n"
          ]
        }
      ]
    },
    {
      "cell_type": "markdown",
      "source": [
        "2. How many miles are there in 10 kilometers? Hint: there are 1.61 kilometers in a mile."
      ],
      "metadata": {
        "id": "4XhRg6BRbruY"
      }
    },
    {
      "cell_type": "code",
      "source": [
        "kilometers = 10\n",
        "conversion = 1.61\n",
        "miles = kilometers / conversion\n",
        "\n",
        "print(\"There are\", miles,\"miles in 10 kilometers.\")"
      ],
      "metadata": {
        "colab": {
          "base_uri": "https://localhost:8080/"
        },
        "id": "SuYUyNQhcDCl",
        "outputId": "c5ef03f3-7e22-42ba-bbba-800a30fdfb0e"
      },
      "execution_count": 12,
      "outputs": [
        {
          "output_type": "stream",
          "name": "stdout",
          "text": [
            "There are 6.211180124223602 miles in 10 kilometers.\n"
          ]
        }
      ]
    },
    {
      "cell_type": "markdown",
      "source": [
        "3. If you run a 10 kilometer race in 42 minutes and 42 seconds, what is your aveage pace (time per mile in minutes and seconds)? What is your average speed in miles per hour?"
      ],
      "metadata": {
        "id": "94KGs53scDWo"
      }
    },
    {
      "cell_type": "code",
      "source": [
        "race_seconds = 42\n",
        "race_minutes = 42\n",
        "race_distance = 10\n",
        "total_race = (race_minutes * 60) + race_seconds\n",
        "race_distance_miles = race_distance / 1.61\n",
        "\n",
        "pace_seconds = total_race / race_distance_miles\n",
        "pace_minutes = int(pace_seconds // 60)\n",
        "pace_seconds %= 60\n",
        "\n",
        "speed = race_distance_miles / (race_minutes / 60 + race_seconds / 3600)\n",
        "\n",
        "print(\"Your average pace is\", pace_minutes,\"minutes\", int(pace_seconds),\"seconds per mile.\")\n",
        "print(\"Your average speed is\", round(speed,2),\"miles per hour.\")"
      ],
      "metadata": {
        "colab": {
          "base_uri": "https://localhost:8080/"
        },
        "id": "ljj2RclscQ6x",
        "outputId": "9174e57d-3337-4090-ef0a-35690943f0c1"
      },
      "execution_count": 19,
      "outputs": [
        {
          "output_type": "stream",
          "name": "stdout",
          "text": [
            "Your average pace is 6 minutes 52 seconds per mile.\n",
            "Your average speed is 8.73 miles per hour.\n"
          ]
        }
      ]
    }
  ]
}